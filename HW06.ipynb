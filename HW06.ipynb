{
 "cells": [
  {
   "cell_type": "markdown",
   "metadata": {},
   "source": [
    "\\begin{flushright}20211108 Donghyuk Jung\n",
    "\\end{flushright}\n",
    "\n",
    "# Least Square Method\n",
    "\n",
    "Implement Gauss-Newton's and LM(Levenberg-Marquardt) for the following models and the given observations:\n",
    "\\begin{itemize}\n",
    "\\item Model 1 : $\\phi_1(a, b, c, d; x, y, z)=ax+by+cz+d$\n",
    "\n",
    "\\item Model 2 : $\\phi_2(a, b, c, d; x, y, z)= \\exp{-\\frac{(x-a)^2+(y-b)^2+(z-c)^2}{d^2}}$\n",
    "\\end{itemize}\n",
    "Determine unknown parameters $a, b, c$ and $d$ in the least square sence"
   ]
  },
  {
   "cell_type": "markdown",
   "metadata": {},
   "source": [
    "# Common funtion implementation"
   ]
  },
  {
   "cell_type": "code",
   "execution_count": 13,
   "metadata": {},
   "outputs": [],
   "source": [
    "%matplotlib inline\n",
    "import numpy as np\n",
    "import matplotlib.pyplot as plt \n",
    "import matplotlib.tri as tri \n",
    "import math as m\n",
    "import time as t\n",
    "from tabulate import tabulate\n",
    "\n",
    "def printVal(param, loss, iter):\n",
    "    print(\"loss : %.8f , parameter (a, b, c, d) = (%.4f, %.4f, %.4f, %.4f)  iteration : %d\"% (loss,param[0][0],param[0][1],param[0][2],param[0][3], iter))"
   ]
  },
  {
   "cell_type": "markdown",
   "metadata": {},
   "source": [
    "# Implementation\n",
    "Read observation data from csv file"
   ]
  },
  {
   "cell_type": "code",
   "execution_count": 4,
   "metadata": {},
   "outputs": [],
   "source": [
    "obs = np.genfromtxt('NOHW06.csv', delimiter=',', skip_header=1)\n",
    "N=len(obs)"
   ]
  },
  {
   "cell_type": "markdown",
   "metadata": {},
   "source": [
    "Define residue $r_k=\\phi (p;t)-y$ where $p=(a, b, c, d), \\:t=(x, y, z)$"
   ]
  },
  {
   "cell_type": "code",
   "execution_count": 5,
   "metadata": {},
   "outputs": [],
   "source": [
    "h = 1e-3\n",
    "eps=1e-15\n",
    "def r1(param):\n",
    "    a, b, c, d = param\n",
    "    res=np.array([])\n",
    "    for x1, x2, x3,y in obs:\n",
    "        res=np.append(res,a*x1+b*x2+c*x3+d-y)\n",
    "    return res\n",
    "\n",
    "def r2(param):\n",
    "    a, b, c, d = param\n",
    "    res=np.array([])\n",
    "    for x1, x2, x3,y in obs:\n",
    "        res=np.append(res,np.exp(-((x1-a)**2+(x2-b)**2+(x3-c)**2)/d**2)-y)\n",
    "    return res"
   ]
  },
  {
   "cell_type": "markdown",
   "metadata": {},
   "source": [
    "Define Jaccobian"
   ]
  },
  {
   "cell_type": "code",
   "execution_count": 8,
   "metadata": {},
   "outputs": [],
   "source": [
    "\n",
    "def grad(param, r,i):\n",
    "    p1=param.copy()\n",
    "    p2=param.copy()\n",
    "    p1[i][0]+=h\n",
    "    p2[i][0]-=h\n",
    "    dr=(r(p1)-r(p2))/(2*h)\n",
    "    # print(dr)\n",
    "    return np.reshape(dr,(N,1))\n",
    "\n",
    "def jaccobian(param,r):\n",
    "    J=grad(param,r,0).T\n",
    "    J=np.concatenate((J,grad(param,r,1).T))\n",
    "    J=np.concatenate((J,grad(param,r,2).T))\n",
    "    J=np.concatenate((J,grad(param,r,3).T))\n",
    "    return J.T\n",
    "\n",
    "def ls(pk,r):\n",
    "    rk=r(pk)\n",
    "    sum=0\n",
    "    for i in range(len(rk)):\n",
    "        sum+=(rk[i]**2)\n",
    "    return sum/2"
   ]
  },
  {
   "cell_type": "markdown",
   "metadata": {},
   "source": [
    "# Gauss-Newton Method\n",
    "\n",
    "search direction $p_k^{GN}$ : $J(x_k)^TJ(x_k)p_k^{GN}=-J(x_k)^Tr(x_k)$"
   ]
  },
  {
   "cell_type": "code",
   "execution_count": 17,
   "metadata": {},
   "outputs": [],
   "source": [
    "def LS_GN(p0, r):\n",
    "    pk=p0\n",
    "    iter=0\n",
    "    loss=0\n",
    "    while True:\n",
    "        loss=ls(pk,r)\n",
    "        iter += 1\n",
    "        J=jaccobian(pk,r)\n",
    "        JTJinv=np.linalg.inv(np.matmul(J.T,J))     \n",
    "        JTJinvJT=np.matmul(JTJinv,J.T)\n",
    "        pk1=pk-np.matmul(JTJinvJT,r(pk)).reshape(4,1)\n",
    "        pk=pk1\n",
    "        if np.abs(loss-ls(pk,r))<eps:\n",
    "            break\n",
    "    \n",
    "    return pk.T, loss, iter"
   ]
  },
  {
   "cell_type": "markdown",
   "metadata": {},
   "source": [
    "# Levenberg-Marquardt Method\n",
    "\n",
    "search direction $p_k^{LM}$ : $(J(x_k)^TJ(x_k)+\\lambda_kI)p_k^{LM}=-J(x_k)^Tr(x_k)$ for some $\\lambda_k$\n",
    "\n",
    "when $\\lambda_k \\rightarrow 0\\:$, it may reach $\\:J(x_k)^TJ(x_k)p_k=-J(x_k)^Tr(x_k)$ \n",
    "\\begin{itemize}\n",
    "\n",
    "\\item $p_k \\rightarrow p_k^{GN}\\;$ : a Gauss-Newton direction\n",
    "\\item It comes to Gauss-Newton method\n",
    "\\end{itemize}\n",
    "\n",
    "when $\\lambda_k \\rightarrow \\infty\\:$, it may reach $p_k$ : $\\:\\lambda_kp_k=-J(x_k)^Tr(x_k)$ \n",
    "\\begin{itemize}\n",
    "\\item $p_k \\rightarrow -k\\nabla f(x_k), k : \\rm const$\n",
    "\\item It comes to the mothod of steepest descent\n",
    "\\end{itemize}"
   ]
  },
  {
   "cell_type": "code",
   "execution_count": 40,
   "metadata": {},
   "outputs": [],
   "source": [
    "def LS_LM(p0, r):\n",
    "    pk=p0\n",
    "    iter=0\n",
    "    lk=1\n",
    "    a=2\n",
    "    loss=0\n",
    "    while True:\n",
    "        lk=10\n",
    "        loss=ls(pk,r)\n",
    "        iter += 1\n",
    "        print(iter, loss)\n",
    "        J=jaccobian(pk,r)  \n",
    "        JTJinv=np.linalg.inv(np.matmul(J.T,J))\n",
    "        JTJinvJT=np.matmul(JTJinv+np.identity(4)*lk,J.T)\n",
    "        pk1=pk-np.matmul(JTJinvJT,r(pk)).reshape(4,1)\n",
    "        if loss-ls(pk1,r)<0:\n",
    "            temp=pk1\n",
    "            while True:\n",
    "                temp=pk1\n",
    "                JTJinvJT=np.matmul(JTJinv+np.identity(4)*lk,J.T)\n",
    "                pk1=pk-np.matmul(JTJinvJT,r(pk)).reshape(4,1)   \n",
    "                lk = lk / a\n",
    "                print(iter, loss-ls(pk1,r))\n",
    "                if loss-ls(pk1,r)>0:\n",
    "                    pk1=temp\n",
    "                    lk=lk*a\n",
    "                    break\n",
    "        else : \n",
    "            while True:\n",
    "                JTJinvJT=np.matmul(JTJinv+np.identity(4)*lk,J.T)\n",
    "                pk1=pk-np.matmul(JTJinvJT,r(pk)).reshape(4,1)   \n",
    "                lk = lk * a\n",
    "                print(lk)\n",
    "                if loss-ls(pk1,r)>0:\n",
    "                    break\n",
    "        pk=pk1\n",
    "        print(loss)\n",
    "        pk1=pk-np.matmul(JTJinvJT,r(pk)).reshape(4,1)\n",
    "        if np.abs(loss-ls(pk,r))<eps:\n",
    "            break\n",
    "    return pk.T, loss, iter"
   ]
  },
  {
   "cell_type": "markdown",
   "metadata": {},
   "source": [
    "# Result "
   ]
  },
  {
   "cell_type": "markdown",
   "metadata": {},
   "source": [
    "$\\phi_2$ is better than $\\phi_1$. but $\\phi_2$ include exponential term, $\\phi_2$ works quite sensitively to the initial value.\n",
    "\n",
    "Implementation of LM method doesn't not work well"
   ]
  },
  {
   "cell_type": "code",
   "execution_count": 41,
   "metadata": {},
   "outputs": [
    {
     "name": "stdout",
     "output_type": "stream",
     "text": [
      "Gauss-Newton method using model 1 (linear model)\n",
      "loss : 1.87512104 , parameter (a, b, c, d) = (0.0017, 0.0007, -0.0035, 0.2535)  iteration : 2\n",
      "Gauss-Newton method using model 2 (Gaussian model)\n",
      "loss : 0.06488771 , parameter (a, b, c, d) = (5.3313, 5.6874, 5.6071, 9.9244)  iteration : 9\n",
      "Levenberg-Marquardt doesn't not work well\n"
     ]
    }
   ],
   "source": [
    "th1=np.array([[10.],[10.],[10.],[10.]])\n",
    "\n",
    "print(\"Gauss-Newton method using model 1 (linear model)\")\n",
    "printVal(*LS_GN(th1,r1))\n",
    "\n",
    "print(\"Gauss-Newton method using model 2 (Gaussian model)\")\n",
    "printVal(*LS_GN(th1,r2))\n",
    "\n",
    "\n",
    "print(\"Levenberg-Marquardt doesn't not work well\")"
   ]
  }
 ],
 "metadata": {
  "interpreter": {
   "hash": "8343e1279b8e1549563b406b02efaa63e68e704dfedc67139835435c2e0dd82f"
  },
  "kernelspec": {
   "display_name": "Python 3 (ipykernel)",
   "language": "python",
   "name": "python3"
  },
  "language_info": {
   "codemirror_mode": {
    "name": "ipython",
    "version": 3
   },
   "file_extension": ".py",
   "mimetype": "text/x-python",
   "name": "python",
   "nbconvert_exporter": "python",
   "pygments_lexer": "ipython3",
   "version": "3.9.5"
  }
 },
 "nbformat": 4,
 "nbformat_minor": 4
}
