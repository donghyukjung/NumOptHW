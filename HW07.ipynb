{
 "cells": [
  {
   "cell_type": "markdown",
   "metadata": {},
   "source": [
    "\\begin{flushright}20211108 Donghyuk Jung\n",
    "\\end{flushright}\n",
    "\n",
    "# Genetic Algorithm\n",
    "\n",
    "Implement Genetic algorithm to seek the global minimum of the following functions : \n",
    "\n",
    "$f(x)=2(x-0.5)^2+1\\: on \\: [0,1]$ \n",
    "\n",
    "$f(x)=|x-0.5|(cos(12\\pi[x-0.5])+1.2)\\: on \\: [0,1]$ \n",
    "\n",
    "Discuss its performance depending on various control parameters such as length of  genotype, population size, mutation probability, crossover probability and so on"
   ]
  },
  {
   "cell_type": "markdown",
   "metadata": {},
   "source": [
    "# Implementation"
   ]
  },
  {
   "cell_type": "code",
   "execution_count": null,
   "metadata": {
    "tags": [
     "remove_cell"
    ]
   },
   "outputs": [],
   "source": [
    "%matplotlib inline\n",
    "import numpy as np\n",
    "import matplotlib.pyplot as plt \n",
    "import matplotlib.tri as tri \n",
    "import math as m\n",
    "import time as t\n",
    "import random as r\n",
    "from tabulate import tabulate"
   ]
  },
  {
   "cell_type": "markdown",
   "metadata": {},
   "source": [
    "Define objective function"
   ]
  },
  {
   "cell_type": "code",
   "execution_count": null,
   "metadata": {},
   "outputs": [],
   "source": [
    "def f1(x):\n",
    "    return 2*(x-0.5)**2+1\n",
    "\n",
    "\n",
    "def f2(x):\n",
    "    return np.abs(x-0.5)*(np.cos(12*np.pi*(x-0.5))+1.2)\n"
   ]
  },
  {
   "cell_type": "markdown",
   "metadata": {},
   "source": [
    "Define parameters"
   ]
  },
  {
   "cell_type": "code",
   "execution_count": null,
   "metadata": {},
   "outputs": [],
   "source": [
    "L, N = 16, 50\n",
    "p_mutate, p_cross = 1e-2, 0.8\n",
    "factor = [float(2**i) for i in reversed(range(L))]\n",
    "wgt = 0.3\n",
    "selection_weight = [float(wgt*(1-wgt)**i) for i in range(N)]\n",
    "\n",
    "\n",
    "def encode(val):  # Encode chromosome\n",
    "    gene = [0 for _ in range(L)]\n",
    "    val *= float(2**L-1)\n",
    "    for i in range(L):\n",
    "        gene[i], val = divmod(val, factor[i])\n",
    "    return gene\n",
    "\n",
    "\n",
    "def decode(gene):  # Decode chromosome\n",
    "    val = 0\n",
    "    for i in range(L):\n",
    "        val += gene[i]*factor[i]\n",
    "    val /= float(2**L-1)\n",
    "    return val\n",
    "\n",
    "\n",
    "def fitness(p, f):  # Evaluate fitness\n",
    "    key = []\n",
    "    for chromosome in p:\n",
    "        val = decode(chromosome)\n",
    "        key.append(f(val))\n",
    "    return key\n",
    "\n",
    "\n",
    "def mutate(p):\n",
    "    for chromosome in p:\n",
    "        if r.uniform(0, 1) > p_mutate:\n",
    "            continue\n",
    "        i = r.randint(0, L-1)\n",
    "        chromosome[i] = (chromosome[i]+1) % 2\n",
    "\n",
    "\n",
    "def crossover(p, a, b):\n",
    "    cross = []\n",
    "    if r.uniform(0, 1) > p_cross:\n",
    "        return 0, cross\n",
    "    i = r.randint(0, L-1)\n",
    "    cross = [p[a][:i]+p[b][i:],\n",
    "             p[b][:i]+p[a][i:]]\n",
    "    return 1, cross\n"
   ]
  },
  {
   "cell_type": "code",
   "execution_count": 315,
   "metadata": {
    "tags": [
     "remove_cell"
    ]
   },
   "outputs": [],
   "source": [
    "def plot(f):\n",
    "    x = np.linspace(0, 1, 100)\n",
    "    y = f(x)\n",
    "    fig = plt.figure()\n",
    "    ax = fig.add_subplot(1, 1, 1)\n",
    "    # ax.spines['bottom'].set_position('zero')\n",
    "    ax.spines['right'].set_color('none')\n",
    "    ax.spines['top'].set_color('none')\n",
    "    ax.xaxis.set_ticks_position('bottom')\n",
    "    ax.yaxis.set_ticks_position('left')\n",
    "    plt.plot(x, y, 'b')"
   ]
  },
  {
   "cell_type": "code",
   "execution_count": 290,
   "metadata": {},
   "outputs": [],
   "source": [
    "def GA(f, gen):\n",
    "    population = [[r.randint(0, 1) for _ in range(L)] for _ in range(N)]\n",
    "    for i in range(gen):\n",
    "        flag_mutate, flag_cross = 0, 0\n",
    "        calculated_fitness = fitness(population, f)\n",
    "        maintained_parents = [i for _, i in sorted(\n",
    "            zip(calculated_fitness, population))]\n",
    "\n",
    "        mutate(maintained_parents)\n",
    "        [a, b] = r.choices([i for i in range(0, N)],\n",
    "                           weights=selection_weight, k=2)\n",
    "        flag_cross, cross = crossover(maintained_parents, a, b)\n",
    "        population = maintained_parents[:N - (flag_mutate+flag_cross)*len(cross)]+cross\n",
    "    return decode(population[0])\n",
    "\n",
    "\n",
    "def GAtest(f, l=L, n=N, pm=p_mutate, pc=p_cross, gen=100):\n",
    "    factor = [float(2**i) for i in reversed(range(L))]\n",
    "    wgt = 0.3\n",
    "    selection_weight = [float(wgt*(1-wgt)**i) for i in range(N)]\n",
    "    count = 0\n",
    "    t = 500\n",
    "    for i in range(t):\n",
    "        if np.abs(GA(f, gen) - 0.5) < 0.01:\n",
    "            count += 1\n",
    "    return round(count*100.0/t, 2)\n"
   ]
  },
  {
   "cell_type": "markdown",
   "metadata": {},
   "source": [
    "# Result\n",
    "We ran the genetic algorithm 500 times and measured the accuracy by the number of times the global minimum came out.\n",
    "\n",
    "## $f(x)=2(x-0.5)^2+1\\: on \\: [0,1]$ \n",
    "\n",
    "the global minimum is $1$ at $x=0.5$"
   ]
  },
  {
   "cell_type": "code",
   "execution_count": 313,
   "metadata": {},
   "outputs": [
    {
     "data": {
      "image/png": "[encoded data removed]",
      "text/plain": [
       "<Figure size 432x288 with 1 Axes>"
      ]
     },
     "metadata": {
      "needs_background": "light"
     },
     "output_type": "display_data"
    }
   ],
   "source": [
    "plot(f1)"
   ]
  },
  {
   "cell_type": "markdown",
   "metadata": {},
   "source": [
    "### Along Population size"
   ]
  },
  {
   "cell_type": "code",
   "execution_count": 293,
   "metadata": {},
   "outputs": [
    {
     "name": "stdout",
     "output_type": "stream",
     "text": [
      "L : 16, p_mutate : 0.01, p_cross : 0.8, gen : 50\n",
      "N :  20 -> Accuracy : 89.20%\n",
      "N :  50 -> Accuracy : 91.00%\n",
      "N : 100 -> Accuracy : 90.00%\n",
      "L : 16, p_mutate : 0.01, p_cross : 0.8, gen : 200\n",
      "N :  20 -> Accuracy : 99.20%\n",
      "N :  50 -> Accuracy : 99.40%\n",
      "N : 100 -> Accuracy : 99.00%\n"
     ]
    }
   ],
   "source": [
    "print(\"L : {}, p_mutate : {}, p_cross : {}, gen : {}\".format(16,0.01,0.8,50))\n",
    "print(\"N : {:3d} -> Accuracy : {:.2f}%\".format(20,GAtest(f1,16,20,0.01,0.8,50)))\n",
    "print(\"N : {:3d} -> Accuracy : {:.2f}%\".format(50,GAtest(f1,16,50,0.01,0.8,50)))\n",
    "print(\"N : {:3d} -> Accuracy : {:.2f}%\".format(100,GAtest(f1,16,100,0.01,0.8,50)))\n",
    "print(\"L : {}, p_mutate : {}, p_cross : {}, gen : {}\".format(16,0.01,0.8,200))\n",
    "print(\"N : {:3d} -> Accuracy : {:.2f}%\".format(20,GAtest(f1,16,20,0.01,0.8,200)))\n",
    "print(\"N : {:3d} -> Accuracy : {:.2f}%\".format(50,GAtest(f1,16,50,0.01,0.8,200)))\n",
    "print(\"N : {:3d} -> Accuracy : {:.2f}%\".format(100,GAtest(f1,16,100,0.01,0.8,200)))"
   ]
  },
  {
   "cell_type": "markdown",
   "metadata": {},
   "source": [
    "### Along crossover probability"
   ]
  },
  {
   "cell_type": "code",
   "execution_count": 298,
   "metadata": {},
   "outputs": [
    {
     "name": "stdout",
     "output_type": "stream",
     "text": [
      "L : 16, N :  50, p_mutate : 0.01, gen : 50\n",
      "p_cross : 0.5 -> Accuracy : 89.00%\n",
      "p_cross : 0.7 -> Accuracy : 88.00%\n",
      "p_cross : 0.9 -> Accuracy : 90.20%\n"
     ]
    }
   ],
   "source": [
    "print(\"L : {}, N : {:3d}, p_mutate : {}, gen : {}\".format(16,50,0.01,50))\n",
    "print(\"p_cross : {} -> Accuracy : {:.2f}%\".format(0.5,GAtest(f1,16,50,0.01,0.5,50)))\n",
    "print(\"p_cross : {} -> Accuracy : {:.2f}%\".format(0.7,GAtest(f1,16,50,0.01,0.7,50)))\n",
    "print(\"p_cross : {} -> Accuracy : {:.2f}%\".format(0.9,GAtest(f1,16,50,0.01,0.9,50)))"
   ]
  },
  {
   "cell_type": "markdown",
   "metadata": {},
   "source": [
    "## $f(x)=|x-0.5|(cos(12\\pi[x-0.5])+1.2)\\: on \\: [0,1]$ \n",
    "\n",
    "the global minimum is $0$ at $x=0.5$"
   ]
  },
  {
   "cell_type": "code",
   "execution_count": 314,
   "metadata": {},
   "outputs": [
    {
     "data": {
      "image/png": "[encoded data removed]",
      "text/plain": [
       "<Figure size 432x288 with 1 Axes>"
      ]
     },
     "metadata": {
      "needs_background": "light"
     },
     "output_type": "display_data"
    }
   ],
   "source": [
    "plot(f2)"
   ]
  },
  {
   "cell_type": "markdown",
   "metadata": {},
   "source": [
    "### Along Population size"
   ]
  },
  {
   "cell_type": "code",
   "execution_count": 294,
   "metadata": {},
   "outputs": [
    {
     "name": "stdout",
     "output_type": "stream",
     "text": [
      "L : 16, p_mutate : 0.01, p_cross : 0.8, gen : 50\n",
      "N :  20 -> Accuracy : 60.80%\n",
      "N :  50 -> Accuracy : 61.40%\n",
      "N : 100 -> Accuracy : 62.20%\n",
      "L : 16, p_mutate : 0.01, p_cross : 0.8, gen : 200\n",
      "N :  20 -> Accuracy : 63.40%\n",
      "N :  50 -> Accuracy : 67.60%\n",
      "N : 100 -> Accuracy : 65.20%\n"
     ]
    }
   ],
   "source": [
    "print(\"L : {}, p_mutate : {}, p_cross : {}, gen : {}\".format(16,0.01,0.8,50))\n",
    "print(\"N : {:3d} -> Accuracy : {:.2f}%\".format(20,GAtest(f2,16,20,0.01,0.8,50)))\n",
    "print(\"N : {:3d} -> Accuracy : {:.2f}%\".format(50,GAtest(f2,16,50,0.01,0.8,50)))\n",
    "print(\"N : {:3d} -> Accuracy : {:.2f}%\".format(100,GAtest(f2,16,100,0.01,0.8,50)))\n",
    "print(\"L : {}, p_mutate : {}, p_cross : {}, gen : {}\".format(16,0.01,0.8,200))\n",
    "print(\"N : {:3d} -> Accuracy : {:.2f}%\".format(20,GAtest(f2,16,20,0.01,0.8,200)))\n",
    "print(\"N : {:3d} -> Accuracy : {:.2f}%\".format(50,GAtest(f2,16,50,0.01,0.8,200)))\n",
    "print(\"N : {:3d} -> Accuracy : {:.2f}%\".format(100,GAtest(f2,16,100,0.01,0.8,200)))"
   ]
  },
  {
   "cell_type": "markdown",
   "metadata": {},
   "source": [
    "### Along crossover probability"
   ]
  },
  {
   "cell_type": "code",
   "execution_count": 299,
   "metadata": {},
   "outputs": [
    {
     "name": "stdout",
     "output_type": "stream",
     "text": [
      "L : 16, N :  50, p_mutate : 0.01, gen : 200\n",
      "p_cross : 0.5 -> Accuracy : 65.80%\n",
      "p_cross : 0.7 -> Accuracy : 63.80%\n",
      "p_cross : 0.9 -> Accuracy : 64.40%\n"
     ]
    }
   ],
   "source": [
    "print(\"L : {}, N : {:3d}, p_mutate : {}, gen : {}\".format(16,50,0.01,200))\n",
    "print(\"p_cross : {} -> Accuracy : {:.2f}%\".format(0.5,GAtest(f2,16,50,0.01,0.5,200)))\n",
    "print(\"p_cross : {} -> Accuracy : {:.2f}%\".format(0.7,GAtest(f2,16,50,0.01,0.7,200)))\n",
    "print(\"p_cross : {} -> Accuracy : {:.2f}%\".format(0.9,GAtest(f2,16,50,0.01,0.9,200)))"
   ]
  }
 ],
 "metadata": {
  "celltoolbar": "Tags",
  "interpreter": {
   "hash": "8343e1279b8e1549563b406b02efaa63e68e704dfedc67139835435c2e0dd82f"
  },
  "kernelspec": {
   "display_name": "Python 3 (ipykernel)",
   "language": "python",
   "name": "python3"
  },
  "language_info": {
   "codemirror_mode": {
    "name": "ipython",
    "version": 3
   },
   "file_extension": ".py",
   "mimetype": "text/x-python",
   "name": "python",
   "nbconvert_exporter": "python",
   "pygments_lexer": "ipython3",
   "version": "3.9.5"
  },
  "latex_envs": {
   "LaTeX_envs_menu_present": true,
   "autoclose": false,
   "autocomplete": true,
   "bibliofile": "biblio.bib",
   "cite_by": "apalike",
   "current_citInitial": 1,
   "eqLabelWithNumbers": true,
   "eqNumInitial": 1,
   "hotkeys": {
    "equation": "Ctrl-E",
    "itemize": "Ctrl-I"
   },
   "labels_anchors": false,
   "latex_user_defs": false,
   "report_style_numbering": false,
   "user_envs_cfg": false
  },
  "toc": {
   "base_numbering": 1,
   "nav_menu": {},
   "number_sections": true,
   "sideBar": true,
   "skip_h1_title": false,
   "title_cell": "Table of Contents",
   "title_sidebar": "Contents",
   "toc_cell": false,
   "toc_position": {},
   "toc_section_display": true,
   "toc_window_display": true
  }
 },
 "nbformat": 4,
 "nbformat_minor": 4
}
