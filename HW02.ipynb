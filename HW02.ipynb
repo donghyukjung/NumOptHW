{
 "cells": [
  {
   "cell_type": "markdown",
   "id": "b964dd7e",
   "metadata": {},
   "source": [
    "# Numerical Optimization HW1(0915)\n",
    "### 20211108 Donghyuk Jung\n",
    "\n",
    "Univariate Optimization : Fibonacci search and golden section search\n",
    "seeking initial bound\n",
    "\n",
    "---"
   ]
  },
  {
   "cell_type": "code",
   "execution_count": 1,
   "id": "922ee647",
   "metadata": {},
   "outputs": [],
   "source": [
    "%matplotlib inline\n",
    "import numpy as np\n",
    "import matplotlib.pyplot as plt\n",
    "import math as m"
   ]
  },
  {
   "cell_type": "markdown",
   "id": "f2a8a359",
   "metadata": {},
   "source": [
    "#### Fibonacci search implementation"
   ]
  },
  {
   "cell_type": "code",
   "execution_count": 12,
   "id": "08dd523f",
   "metadata": {},
   "outputs": [],
   "source": [
    "def fibonacciSearch(a, b, f, N):\n",
    "    # Generate Fibonacci numbers in fibo\n",
    "    F=[1,1]\n",
    "    for i in range(2,N+1):\n",
    "        F+=[F[i-1]+F[i-2]]\n",
    "    \n",
    "    for n in range(N,2,-1):\n",
    "        L=b-a\n",
    "        x1=a+F[n-2]/F[n]*L\n",
    "        x2=b-F[n-2]/F[n]*L\n",
    "        if f(x1)<f(x2): a=x1\n",
    "        else: b=x2 \n",
    "    return a, b\n"
   ]
  },
  {
   "cell_type": "markdown",
   "id": "153c1ef7",
   "metadata": {},
   "source": [
    "#### Golden section search implementation"
   ]
  },
  {
   "cell_type": "code",
   "execution_count": null,
   "id": "e0b25cce",
   "metadata": {},
   "outputs": [],
   "source": [
    "def goldenSectionSearch(a, b, f, N):\n",
    "    r= 1.61803398875 #golden ratio (1+sqrt5)/2\n",
    "    for n in range(N,2,-1):\n",
    "        L=b-a\n",
    "        x1=a+L*r/(1+r)\n",
    "        x2=b-L*r/(1+r)\n",
    "        if f(x1)<f(x2): a=x1\n",
    "        else: b=x2 \n",
    "    return a, b"
   ]
  },
  {
   "cell_type": "markdown",
   "id": "ef95e208",
   "metadata": {},
   "source": [
    "#### Seeking initial bound implementation"
   ]
  },
  {
   "cell_type": "code",
   "execution_count": null,
   "id": "31f15446",
   "metadata": {},
   "outputs": [],
   "source": [
    "def seekingInitialBound():\n",
    "    return a, b"
   ]
  }
 ],
 "metadata": {
  "kernelspec": {
   "display_name": "Python 3 (ipykernel)",
   "language": "python",
   "name": "python3"
  },
  "language_info": {
   "codemirror_mode": {
    "name": "ipython",
    "version": 3
   },
   "file_extension": ".py",
   "mimetype": "text/x-python",
   "name": "python",
   "nbconvert_exporter": "python",
   "pygments_lexer": "ipython3",
   "version": "3.9.5"
  }
 },
 "nbformat": 4,
 "nbformat_minor": 5
}
