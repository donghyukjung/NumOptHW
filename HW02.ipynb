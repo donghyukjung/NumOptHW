{
 "cells": [
  {
   "cell_type": "markdown",
   "id": "b964dd7e",
   "metadata": {},
   "source": [
    "# Numerical Optimization HW1(0915)\n",
    "### 20211108 Donghyuk Jung\n",
    "\n",
    "Univariate Optimization : Fibonacci search and golden section search\n",
    "seeking initial bound\n",
    "\n",
    "---"
   ]
  },
  {
   "cell_type": "code",
   "execution_count": 1,
   "id": "922ee647",
   "metadata": {},
   "outputs": [],
   "source": [
    "%matplotlib inline\n",
    "import numpy as np\n",
    "import matplotlib.pyplot as plt\n",
    "import math as m"
   ]
  },
  {
   "cell_type": "markdown",
   "id": "f2a8a359",
   "metadata": {},
   "source": [
    "#### Fibonacci search implementation"
   ]
  },
  {
   "cell_type": "code",
   "execution_count": 3,
   "id": "08dd523f",
   "metadata": {},
   "outputs": [],
   "source": [
    "def fibonacciSearch(a, b, f, N):\n",
    "    # Generate Fibonacci numbers in fibo\n",
    "    F=[1,1]\n",
    "    for i in range(2,N+1):\n",
    "        F+=[F[i-1]+F[i-2]]\n",
    "    \n",
    "    for n in range(N,2,-1):\n",
    "        L=b-a\n",
    "        x1=a+F[n-2]/F[n]*L\n",
    "        x2=b-F[n-2]/F[n]*L\n",
    "        if f(x1)<f(x2): a=x1\n",
    "        else: b=x2 \n",
    "    return a, b"
   ]
  },
  {
   "cell_type": "markdown",
   "id": "153c1ef7",
   "metadata": {},
   "source": [
    "#### Golden section search implementation"
   ]
  },
  {
   "cell_type": "code",
   "execution_count": 148,
   "id": "e0b25cce",
   "metadata": {},
   "outputs": [],
   "source": [
    "def goldenSectionSearch(a, b, f, N):\n",
    "    r= 1.61803398875 #golden ratio (1+sqrt5)/2\n",
    "    for n in range(N,2,-1):\n",
    "        L=b-a\n",
    "        x1=a+L*r/(1+r)\n",
    "        x2=b-L*r/(1+r)\n",
    "        if f(x1)<f(x2): a=x1\n",
    "        else: b=x2 \n",
    "    return a, b"
   ]
  },
  {
   "cell_type": "markdown",
   "id": "ef95e208",
   "metadata": {},
   "source": [
    "#### Seeking initial bound implementation"
   ]
  },
  {
   "cell_type": "code",
   "execution_count": 149,
   "id": "31f15446",
   "metadata": {},
   "outputs": [],
   "source": [
    "def seekingInitialBound(x1,f):\n",
    "    a,b=0,0\n",
    "    d=0.1\n",
    "    f_l, f_0, f_r=f(x1-d), f(x1),f(x1+d)\n",
    "#     print(\"initial : %2.3f %2.3f %2.3f\"%(    f_l, f_0, f_r))\n",
    "    if f_l>=f_0 and f_0>= f_r : \n",
    "#         print(\"case 1\")\n",
    "        x2=x1+d\n",
    "        x0=x1-d\n",
    "        k=1\n",
    "#         print(\"init : %2.3f %2.3f %2.3f %d\"%(x0,x1,x2,k))\n",
    "        while f(x2)<f(x1) : \n",
    "            x0,x1,x2=x1,x2,x2+k*d\n",
    "            k*=2\n",
    "#             print(\"x : %2.3f %2.3f %2.3f %d\"%(x0,x1,x2,k))\n",
    "#             print(\"F : %2.3f %2.3f %2.3f\\n\"%(f(x0),f(x1),f(x2)))\n",
    "        a,b=x0, x2\n",
    "    elif f_l<=f_0 and f_0<= f_r : \n",
    "#         print(\"case 2\")\n",
    "        x2=x1-d\n",
    "        x0=x1+d\n",
    "        d=-d\n",
    "        k=1\n",
    "#         print(d)\n",
    "#         print(\"init : %2.3f %2.3f %2.3f %d\"%(x0,x1,x2,k))\n",
    "#         print(\"F : %2.3f %2.3f %2.3f\\n\"%(f(x0),f(x1),f(x2)))\n",
    "        while f(x2)<f(x1) : \n",
    "            x0,x1,x2=x1,x2,x2+k*d\n",
    "            k*=2\n",
    "#             print(\"x : %2.3f %2.3f %2.3f %d\"%(x0,x1,x2,k))\n",
    "#             print(\"F : %2.3f %2.3f %2.3f\\n\"%(f(x0),f(x1),f(x2)))\n",
    "        a,b=x2, x0        \n",
    "    else : \n",
    "#         print(\"case 3(lucky)\")\n",
    "        a,b = x1-d, x1+d\n",
    "\n",
    "    return a, b"
   ]
  },
  {
   "cell_type": "code",
   "execution_count": 150,
   "id": "2f9a3eda",
   "metadata": {},
   "outputs": [],
   "source": [
    "def f(x):\n",
    "    return (x+3)**2-3"
   ]
  },
  {
   "cell_type": "code",
   "execution_count": 151,
   "id": "0465a13f",
   "metadata": {},
   "outputs": [
    {
     "data": {
      "text/plain": [
       "(-2.716718427000216, -2.582971010998213)"
      ]
     },
     "execution_count": 151,
     "metadata": {},
     "output_type": "execute_result"
    }
   ],
   "source": [
    "a,b=seekingInitialBound(-5,f)\n",
    "goldenSectionSearch(a,b,f,5)"
   ]
  },
  {
   "cell_type": "code",
   "execution_count": null,
   "id": "838ccd65",
   "metadata": {},
   "outputs": [],
   "source": []
  },
  {
   "cell_type": "code",
   "execution_count": 136,
   "id": "6c19f50e",
   "metadata": {},
   "outputs": [
    {
     "data": {
      "text/plain": [
       "[<matplotlib.lines.Line2D at 0x7f812e53e430>]"
      ]
     },
     "execution_count": 136,
     "metadata": {},
     "output_type": "execute_result"
    },
    {
     "data": {
      "image/png": "[encoded data removed]",
      "text/plain": [
       "<Figure size 720x720 with 1 Axes>"
      ]
     },
     "metadata": {},
     "output_type": "display_data"
    }
   ],
   "source": [
    "%matplotlib inline\n",
    "\n",
    "import numpy as np\n",
    "import matplotlib.pyplot as plt\n",
    "\n",
    "xmin, xmax, ymin, ymax = -5, 5, -5, 5\n",
    "ticks_frequency = 1\n",
    "\n",
    "\n",
    "fig, ax = plt.subplots(figsize=(10, 10))\n",
    " \n",
    "fig.patch.set_facecolor('#ffffff')\n",
    "\n",
    "\n",
    "ax.set(xlim=(xmin-1, xmax+1), ylim=(ymin-1, ymax+1), aspect='equal')\n",
    "\n",
    "\n",
    "ax.spines['bottom'].set_position('zero')\n",
    "ax.spines['left'].set_position('zero')\n",
    "\n",
    "\n",
    "ax.spines['top'].set_visible(False)\n",
    "ax.spines['right'].set_visible(False)\n",
    "\n",
    "\n",
    "ax.set_xlabel('$x$', size=14, labelpad=-24, x=1.02)\n",
    "ax.set_ylabel('$y$', size=14, labelpad=-21, y=1.02, rotation=0)\n",
    " \n",
    "plt.text(0.49, 0.49, r\"$O$\", ha='right', va='top',\n",
    "    transform=ax.transAxes,\n",
    "         horizontalalignment='center', fontsize=14)\n",
    "\n",
    "\n",
    "x_ticks = np.arange(xmin, xmax+1, ticks_frequency)\n",
    "y_ticks = np.arange(ymin, ymax+1, ticks_frequency)\n",
    "ax.set_xticks(x_ticks[x_ticks != 0])\n",
    "ax.set_yticks(y_ticks[y_ticks != 0])\n",
    "ax.set_xticks(np.arange(xmin, xmax+1), minor=True)\n",
    "ax.set_yticks(np.arange(ymin, ymax+1), minor=True)\n",
    "\n",
    "\n",
    "ax.grid(which='both', color='grey', linewidth=1, linestyle='-', alpha=0.2)\n",
    "\n",
    " \n",
    "x = np.linspace(-5, 10, 100)\n",
    "y = f(x)\n",
    " \n",
    "plt.plot(x, y, 'b', linewidth=2)"
   ]
  },
  {
   "cell_type": "code",
   "execution_count": null,
   "id": "7d2f1e96",
   "metadata": {},
   "outputs": [],
   "source": []
  },
  {
   "cell_type": "code",
   "execution_count": null,
   "id": "9c5e5a2c",
   "metadata": {},
   "outputs": [],
   "source": []
  }
 ],
 "metadata": {
  "kernelspec": {
   "display_name": "Python 3 (ipykernel)",
   "language": "python",
   "name": "python3"
  },
  "language_info": {
   "codemirror_mode": {
    "name": "ipython",
    "version": 3
   },
   "file_extension": ".py",
   "mimetype": "text/x-python",
   "name": "python",
   "nbconvert_exporter": "python",
   "pygments_lexer": "ipython3",
   "version": "3.9.5"
  }
 },
 "nbformat": 4,
 "nbformat_minor": 5
}
