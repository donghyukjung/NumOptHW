{
 "cells": [
  {
   "cell_type": "markdown",
   "id": "4b631d32",
   "metadata": {},
   "source": [
    "# Numerical Optimization HW1(0915)\n",
    "### 20211108 Donghyuk Jung"
   ]
  },
  {
   "cell_type": "code",
   "execution_count": 1,
   "id": "13b3522f",
   "metadata": {},
   "outputs": [],
   "source": [
    "%matplotlib inline\n",
    "import numpy as np\n",
    "import math as m\n",
    "import matplotlib.pyplot as plt"
   ]
  },
  {
   "cell_type": "code",
   "execution_count": 2,
   "id": "3a87640b",
   "metadata": {},
   "outputs": [],
   "source": [
    "eps = 10e-8\n",
    "dx = 10e-3"
   ]
  },
  {
   "cell_type": "markdown",
   "id": "ef13d386",
   "metadata": {},
   "source": [
    "### Bisection Method Implementation"
   ]
  },
  {
   "cell_type": "code",
   "execution_count": 3,
   "id": "199e8b2c",
   "metadata": {},
   "outputs": [],
   "source": [
    "def bisec(a,b,f):\n",
    "    m = (a + b) / 2\n",
    "    f_a, f_b, f_m = f(a), f(b), f(m)\n",
    "    if f_a * f_m < 0 :\n",
    "        return a, m\n",
    "    else:\n",
    "        return m, b\n",
    "    \n",
    "def bisectionFtn(a,b,f):\n",
    "    cnt=0\n",
    "    if f(a)*f(b)>0 : return \"no sol\"\n",
    "    while True:\n",
    "        cnt+=1\n",
    "        if b - a < eps : \n",
    "            return (a + b) / 2, cnt\n",
    "        a, b = bisec(a,b,f)"
   ]
  },
  {
   "cell_type": "markdown",
   "id": "5b10f6c9",
   "metadata": {},
   "source": [
    "### Newton Method Implementation"
   ]
  },
  {
   "cell_type": "code",
   "execution_count": 4,
   "id": "ce177a68",
   "metadata": {},
   "outputs": [],
   "source": [
    "def diff(x,f):\n",
    "    return (f(x+dx)-f(x))/dx\n",
    "def newtonFtn(a,b,f):\n",
    "    cnt=0\n",
    "    x = (a+b)/2\n",
    "    x_next = x - f(x)/diff(x,f)\n",
    "    while True: \n",
    "        cnt+=1\n",
    "        if m.fabs(x_next-x) < eps:\n",
    "            return x, cnt\n",
    "        x_next = x\n",
    "        x = x- f(x)/diff(x,f)\n",
    "    "
   ]
  },
  {
   "cell_type": "markdown",
   "id": "d8385478",
   "metadata": {},
   "source": [
    "### Secant Method Implementation"
   ]
  },
  {
   "cell_type": "code",
   "execution_count": 5,
   "id": "beaff1d1",
   "metadata": {},
   "outputs": [],
   "source": [
    "def secantFtn(a,b,f):\n",
    "    cnt=0\n",
    "    x=a\n",
    "    x_pre=b\n",
    "    while True: \n",
    "        cnt+=1\n",
    "        if m.fabs(x_pre-x) < eps:\n",
    "            return x, cnt\n",
    "        x,x_pre = x - (x-x_pre)/(f(x)-f(x_pre)) * f(x),x"
   ]
  },
  {
   "cell_type": "markdown",
   "id": "9e3b3a53",
   "metadata": {},
   "source": [
    "### Regular Falsi Method Implemetation"
   ]
  },
  {
   "cell_type": "code",
   "execution_count": 6,
   "id": "44c9cc71",
   "metadata": {},
   "outputs": [],
   "source": [
    "import time\n",
    "def bisec_Falsi(a,b,f):\n",
    "    f_a, f_b = f(a), f(b)\n",
    "    m = (b*f_a-a*f_b)/(f_a-f_b)\n",
    "    f_m = f(m)\n",
    "    if f_m == 0:\n",
    "        return m, m\n",
    "    if f_a * f_m < 0 :\n",
    "        return a, m\n",
    "    else:\n",
    "        return m, b\n",
    "    \n",
    "def regularFalsiFtn(a,b,f):\n",
    "    cnt=0\n",
    "    if f(a)*f(b) > 0 : return \"no sol\"\n",
    "    while True:\n",
    "        cnt+=1\n",
    "        if m.fabs(b - a) < eps : \n",
    "            return (a + b) / 2, cnt\n",
    "        a, b = bisec_Falsi(a,b,f)\n",
    "        \n",
    "        \n",
    "    "
   ]
  },
  {
   "cell_type": "markdown",
   "id": "0325f0ec",
   "metadata": {},
   "source": [
    "define test functions"
   ]
  },
  {
   "cell_type": "code",
   "execution_count": 7,
   "id": "bab141b6",
   "metadata": {
    "scrolled": true
   },
   "outputs": [],
   "source": [
    "from tabulate import tabulate\n",
    "def resultsInTable(a,b,f):\n",
    "    b1, b2 = bisectionFtn(a,b,f)\n",
    "    n1, n2 = newtonFtn(a,b,f)\n",
    "    s1, s2 = secantFtn(a,b,f)\n",
    "    r1, r2 = regularFalsiFtn(a,b,f)\n",
    "    return [[\"Bisection\",b1,b2],[\"Newton\",n1 ,n2],[\"Secant\",s1,s2],[\"Regular\",r1,r2]]\n",
    "\n",
    "def f_1(x):\n",
    "    return 1/2*(x-1/2)**2-2\n",
    "def f_2(x):\n",
    "    return (x-1/2)**3-2\n",
    "def f_3(x):\n",
    "    return np.sin(2*x)\n",
    "def f_4(x):\n",
    "    return x**2+np.sin(4*x)-2\n"
   ]
  },
  {
   "cell_type": "code",
   "execution_count": 8,
   "id": "f337d3b4",
   "metadata": {},
   "outputs": [
    {
     "name": "stdout",
     "output_type": "stream",
     "text": [
      "results for function 1\n",
      "f_1(x) = 1/2*(x-1/2)**2-2\n",
      "interval : (1,3)\n",
      "Method       result    steps\n",
      "---------  --------  -------\n",
      "Bisection       2.5       26\n",
      "Newton          2.5        7\n",
      "Secant          2.5        9\n",
      "Regular         2.5       19\n",
      "\n",
      "\n",
      "results for function 2\n",
      "f_2(x) = (x-1/2)**3-2\n",
      "interval : (1,3)\n",
      "Method       result    steps\n",
      "---------  --------  -------\n",
      "Bisection  1.75992        26\n",
      "Newton     1.75992         7\n",
      "Secant     0.502635       11\n",
      "Regular    1.75992        67\n",
      "\n",
      "\n",
      "results for function 3\n",
      "f_3(x) = sin(2*x)\n",
      "interval : (1,3)\n",
      "Method       result    steps\n",
      "---------  --------  -------\n",
      "Bisection    1.5708       26\n",
      "Newton       1.5708        4\n",
      "Secant       0             2\n",
      "Regular      0             2\n",
      "\n",
      "\n",
      "results for function 4\n",
      "f_4(x) = x**2+sin(4*x)-2\n",
      "interval : (1,3)\n",
      "Method       result    steps\n",
      "---------  --------  -------\n",
      "Bisection   1.50429       26\n",
      "Newton      1.50429       12\n",
      "Secant      1.50429        8\n",
      "Regular     1.50429       12\n"
     ]
    }
   ],
   "source": [
    "print(\"results for function 1\") \n",
    "print(\"f_1(x) = 1/2*(x-1/2)**2-2\")\n",
    "print(\"interval : (1,3)\")\n",
    "print(tabulate(resultsInTable(0,3,f_1),headers = [\"Method\", \"result\", \"steps\"]))\n",
    "\n",
    "\n",
    "print(\"\\n\\nresults for function 2\") \n",
    "print(\"f_2(x) = (x-1/2)**3-2\")\n",
    "print(\"interval : (1,3)\")\n",
    "print(tabulate(resultsInTable(0,3,f_2),headers = [\"Method\", \"result\", \"steps\"]))\n",
    "\n",
    "\n",
    "print(\"\\n\\nresults for function 3\") \n",
    "print(\"f_3(x) = sin(2*x)\")\n",
    "print(\"interval : (1,3)\")\n",
    "print(tabulate(resultsInTable(0,3,f_3),headers = [\"Method\", \"result\", \"steps\"]))\n",
    "\n",
    "\n",
    "print(\"\\n\\nresults for function 4\") \n",
    "print(\"f_4(x) = x**2+sin(4*x)-2\")\n",
    "print(\"interval : (1,3)\")\n",
    "print(tabulate(resultsInTable(1,3,f_4),headers = [\"Method\", \"result\", \"steps\"]))\n"
   ]
  }
 ],
 "metadata": {
  "interpreter": {
   "hash": "11d5f93c5aca10ebbcf59cdb5be64cd574ce22498f698810a7be66d57512b9b8"
  },
  "kernelspec": {
   "display_name": "Python 3 (ipykernel)",
   "language": "python",
   "name": "python3"
  },
  "language_info": {
   "codemirror_mode": {
    "name": "ipython",
    "version": 3
   },
   "file_extension": ".py",
   "mimetype": "text/x-python",
   "name": "python",
   "nbconvert_exporter": "python",
   "pygments_lexer": "ipython3",
   "version": "3.9.5"
  }
 },
 "nbformat": 4,
 "nbformat_minor": 5
}
