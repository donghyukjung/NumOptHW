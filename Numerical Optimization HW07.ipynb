{
 "cells": [
  {
   "cell_type": "markdown",
   "metadata": {},
   "source": [
    "\\begin{flushright}20211108 Donghyuk Jung\n",
    "\\end{flushright}\n",
    "\n",
    "# Genetic Algorithm\n",
    "\n",
    "Implement Genetic algorithm to seek the global minimum of the following functions : \n",
    "\n",
    "$f(x)=2(x-0.5)^2+1\\: on \\: [0,1]$ \n",
    "\n",
    "$f(x)=|x-0.5|(cos(12\\pi[x-0.5])+1.2)\\: on \\: [0,1]$ \n",
    "\n",
    "Discuss its performance depending on various control parameters such as length of  genotype, population size, mutation probability, crossover probability and so on"
   ]
  },
  {
   "cell_type": "markdown",
   "metadata": {},
   "source": []
  },
  {
   "cell_type": "markdown",
   "metadata": {},
   "source": [
    "# Common funtion implementation"
   ]
  },
  {
   "cell_type": "code",
   "execution_count": 17,
   "metadata": {},
   "outputs": [],
   "source": [
    "%matplotlib inline\n",
    "import numpy as np\n",
    "import matplotlib.pyplot as plt \n",
    "import matplotlib.tri as tri \n",
    "import math as m\n",
    "import time as t\n",
    "import random as r\n",
    "from tabulate import tabulate\n",
    "\n",
    "def printVal(param, loss, iter):\n",
    "    print(\"loss : %.8f , parameter (a, b, c, d) = (%.4f, %.4f, %.4f, %.4f)  iteration : %d\"% (loss,param[0][0],param[0][1],param[0][2],param[0][3], iter))"
   ]
  },
  {
   "cell_type": "markdown",
   "metadata": {},
   "source": [
    "Define objective function"
   ]
  },
  {
   "cell_type": "code",
   "execution_count": 18,
   "metadata": {},
   "outputs": [],
   "source": [
    "def f1(x):\n",
    "    return 2*(x-0.5)**2+1\n",
    "def f2(x):\n",
    "    return np.abs(x-0.5)*(np.cos(12*np.pi*(x-0.5))+1.2)"
   ]
  },
  {
   "cell_type": "markdown",
   "metadata": {},
   "source": [
    "Define parameters"
   ]
  },
  {
   "cell_type": "code",
   "execution_count": 418,
   "metadata": {},
   "outputs": [],
   "source": [
    "L, N = 16, 50\n",
    "p_mutate, p_cross = 1e-1, 0.7"
   ]
  },
  {
   "cell_type": "code",
   "execution_count": 419,
   "metadata": {},
   "outputs": [],
   "source": [
    "factor = [float(2**i) for i in reversed(range(L))]\n",
    "def encode(val):\n",
    "    gene = [0 for _ in range(L)]\n",
    "    val *= float(2**L-1)\n",
    "    for i in range(L):\n",
    "        gene[i], val = divmod(val, factor[i])\n",
    "    return gene\n",
    "\n",
    "\n",
    "def decode(gene):\n",
    "    val = 0\n",
    "    for i in range(L):\n",
    "        val += gene[i]*factor[i]\n",
    "    val /= float(2**L-1)\n",
    "    return val\n"
   ]
  },
  {
   "cell_type": "markdown",
   "metadata": {},
   "source": []
  },
  {
   "cell_type": "code",
   "execution_count": 459,
   "metadata": {},
   "outputs": [],
   "source": [
    "def fitness(p, f):\n",
    "    key = []\n",
    "    for chromosome in p:\n",
    "        val = decode(chromosome)\n",
    "        key.append(f(val))\n",
    "    return key\n",
    "\n",
    "\n",
    "def mutate(p):\n",
    "    for chromosome in p:\n",
    "        if r.uniform(0, 1) < p_mutate:\n",
    "            continue\n",
    "        i = r.randint(0, L-1)\n",
    "        chromosome[i] = (chromosome[i]+1) % 2\n",
    "\n",
    "\n",
    "def crossover(p,a,b):\n",
    "    cross=[]\n",
    "    if r.uniform(0,1)>p_cross:\n",
    "        return 0,cross\n",
    "    i = r.randint(L/2, L-1)\n",
    "    cross = [p[a][:i]+p[b][i:],\n",
    "             p[b][:i]+p[a][i:]]\n",
    "    return 1, cross\n"
   ]
  },
  {
   "cell_type": "code",
   "execution_count": 448,
   "metadata": {},
   "outputs": [],
   "source": [
    "def plot(f):\n",
    "    x = np.linspace(0,1,100)\n",
    "    y = f(x)\n",
    "\n",
    "    fig = plt.figure()\n",
    "    ax = fig.add_subplot(1, 1, 1)\n",
    "    ax.spines['bottom'].set_position('zero')\n",
    "    ax.spines['right'].set_color('none')\n",
    "    ax.spines['top'].set_color('none')\n",
    "    ax.xaxis.set_ticks_position('bottom')\n",
    "    ax.yaxis.set_ticks_position('left')\n",
    "\n",
    "    plt.plot(x,y, 'b')"
   ]
  },
  {
   "cell_type": "code",
   "execution_count": 458,
   "metadata": {},
   "outputs": [
    {
     "name": "stdout",
     "output_type": "stream",
     "text": [
      "0.5418326085297932\n",
      "0.5009231708247501\n",
      "0.4973678187228199\n",
      "0.4683451590753033\n",
      "0.24109254596780347\n",
      "0.49013504234378574\n",
      "0.42824444953078505\n",
      "0.5160448615243763\n",
      "0.4623483634699016\n",
      "0.5001144426642252\n",
      "0.6402685587853818\n",
      "0.4926070038910506\n",
      "0.37094682230869\n",
      "0.4911421377889677\n",
      "0.4163729304951553\n",
      "0.49245441367208365\n",
      "0.49048599984740976\n",
      "0.5027542534523537\n",
      "0.6312962539101243\n",
      "0.6319218738078889\n",
      "0.5011978332188907\n",
      "0.49416342412451364\n",
      "0.501884489204242\n",
      "0.49671168078126193\n",
      "0.5084916456855115\n",
      "0.49497215228503855\n",
      "0.49134050507362476\n",
      "0.5267109178301671\n",
      "0.5039749752040894\n",
      "0.4681925688563363\n",
      "0.5197985809109636\n",
      "0.487861448081178\n",
      "0.5447318226901655\n",
      "0.5051194018463416\n",
      "0.48128480964370185\n",
      "0.433676661326009\n",
      "0.47592889295796137\n",
      "0.4998397802700847\n",
      "0.5123674372472724\n",
      "0.36011291676203555\n",
      "0.47176317998016326\n",
      "0.4894026092927443\n",
      "0.49581139848935685\n",
      "0.48584725719081406\n",
      "0.01330586709391928\n",
      "0.5048447394522011\n",
      "0.49839017318989853\n",
      "0.5188220035095751\n",
      "0.010849164568551155\n",
      "0.5335164415960937\n",
      "0.49883268482490273\n",
      "0.4885328450446326\n",
      "0.4703440909437705\n",
      "0.9995880064087892\n",
      "0.5023117418173495\n",
      "0.49179827573052565\n",
      "0.4296482795452811\n",
      "0.4956130312046998\n",
      "0.011612115663385977\n",
      "0.45137712672617686\n",
      "0.4853437094682231\n",
      "0.5386587319752804\n",
      "0.5155107957579919\n",
      "0.4933852140077821\n",
      "0.4242008087281605\n",
      "0.49370565346761275\n",
      "0.46216525520714125\n",
      "0.5629663538567178\n",
      "0.015716792553597314\n",
      "0.5096513313496605\n",
      "0.9995269703212024\n",
      "0.4930647745479515\n",
      "0.9947661554894331\n",
      "0.5993896391241321\n",
      "0.24312199588006408\n",
      "0.023025864042114902\n",
      "0.5017624170290684\n",
      "0.4972762645914397\n",
      "0.5010147249561303\n",
      "0.5063706416418707\n",
      "0.49459067673762114\n",
      "0.4994430457007706\n",
      "0.49094377050431065\n",
      "0.5181353475242237\n",
      "0.5633478294041352\n",
      "0.7714656290531777\n",
      "0.4988632028686961\n",
      "0.5141374837872892\n",
      "0.48249027237354086\n",
      "0.24983596551461051\n",
      "0.026672770275425344\n",
      "0.5040054932478828\n",
      "0.5223773556115053\n",
      "0.5137407492179751\n",
      "0.48372625314717327\n",
      "0.4890211337453269\n",
      "0.5124132143129625\n",
      "0.47426565957122147\n",
      "0.4981460288395514\n",
      "0.5031967650873579\n",
      "41\n"
     ]
    }
   ],
   "source": [
    "def GA(f):\n",
    "#    plot(f)\n",
    "    population = [[r.randint(0, 1) for _ in range(L)] for _ in range(N)]\n",
    "    for i in range(100):\n",
    "        flag_mutate,flag_cross=0,0\n",
    "        calculated_fitness=fitness(population, f)\n",
    "        maintained_parents= [i for _,i in sorted(zip(calculated_fitness,population))]\n",
    "        \n",
    "        mutate(maintained_parents)\n",
    "        r.choices(population, weights=factor)\n",
    "        flag_cross,cross = crossover(maintained_parents,a,b)\n",
    "        population = maintained_parents[:N-(flag_mutate+flag_cross)*2]+cross\n",
    "        \n",
    "    print(decode(population[0]))\n",
    "    return decode(population[0])\n",
    "count=0\n",
    "for i in range(100):\n",
    "    if np.abs(GA(f1) -0.5)<0.01:\n",
    "        count+=1\n",
    "print(count)\n"
   ]
  },
  {
   "cell_type": "code",
   "execution_count": 393,
   "metadata": {},
   "outputs": [
    {
     "data": {
      "text/plain": [
       "[1, 1, 2, 2, 2, 3, 3, 4]"
      ]
     },
     "execution_count": 393,
     "metadata": {},
     "output_type": "execute_result"
    }
   ],
   "source": [
    "sorted([1,3,2,4,2,3,1,2])"
   ]
  },
  {
   "cell_type": "code",
   "execution_count": null,
   "metadata": {},
   "outputs": [],
   "source": []
  }
 ],
 "metadata": {
  "interpreter": {
   "hash": "8343e1279b8e1549563b406b02efaa63e68e704dfedc67139835435c2e0dd82f"
  },
  "kernelspec": {
   "display_name": "Python 3 (ipykernel)",
   "language": "python",
   "name": "python3"
  },
  "language_info": {
   "codemirror_mode": {
    "name": "ipython",
    "version": 3
   },
   "file_extension": ".py",
   "mimetype": "text/x-python",
   "name": "python",
   "nbconvert_exporter": "python",
   "pygments_lexer": "ipython3",
   "version": "3.8.5"
  }
 },
 "nbformat": 4,
 "nbformat_minor": 4
}
