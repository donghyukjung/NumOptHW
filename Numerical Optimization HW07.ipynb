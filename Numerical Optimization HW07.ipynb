{
 "cells": [
  {
   "cell_type": "markdown",
   "metadata": {},
   "source": [
    "\\begin{flushright}20211108 Donghyuk Jung\n",
    "\\end{flushright}\n",
    "\n",
    "# Genetic Algorithm\n",
    "\n",
    "Implement Genetic algorithm to seek the global minimum of the following functions : \n",
    "\n",
    "$f(x)=2(x-0.5)^2+1\\: on \\: [0,1]$ \n",
    "\n",
    "$f(x)=|x-0.5|(cos(12\\pi[x-0.5])+1.2)\\: on \\: [0,1]$ \n",
    "\n",
    "Discuss its performance depending on various control parameters such as length of  genotype, population size, mutation probability, crossover probability and so on"
   ]
  },
  {
   "cell_type": "markdown",
   "metadata": {},
   "source": [
    "# Common funtion implementation"
   ]
  },
  {
   "cell_type": "code",
   "execution_count": 3,
   "metadata": {},
   "outputs": [],
   "source": [
    "%matplotlib inline\n",
    "import numpy as np\n",
    "import matplotlib.pyplot as plt \n",
    "import matplotlib.tri as tri \n",
    "import math as m\n",
    "import time as t\n",
    "import random as r\n",
    "from tabulate import tabulate\n",
    "\n",
    "def printVal(param, loss, iter):\n",
    "    print(\"loss : %.8f , parameter (a, b, c, d) = (%.4f, %.4f, %.4f, %.4f)  iteration : %d\"% (loss,param[0][0],param[0][1],param[0][2],param[0][3], iter))"
   ]
  },
  {
   "cell_type": "code",
   "execution_count": 24,
   "metadata": {},
   "outputs": [],
   "source": [
    "def f1(x):\n",
    "    return 2*(x-0.5)**2+1\n",
    "def f2(x):\n",
    "    return np.abs(x-0.5)*(np.cos(12*np.pi*(x-0.5))+1.2)"
   ]
  },
  {
   "cell_type": "code",
   "execution_count": null,
   "metadata": {},
   "outputs": [],
   "source": []
  },
  {
   "cell_type": "code",
   "execution_count": 206,
   "metadata": {},
   "outputs": [],
   "source": [
    "L,N=10,5\n",
    "N=5\n",
    "p_mutate=1e-3\n",
    "p_cross=0.95\n",
    "\n",
    "factor = [float(2**i) for i in range(L)]\n",
    "def encode(val):\n",
    "    gene=[0 for _ in range(L)]\n",
    "    val*=float(2**L-1)\n",
    "    for i in reversed(range(L)):\n",
    "        gene[i],val=divmod(val,factor[i])\n",
    "    return gene\n",
    "def decode(gene):\n",
    "    val=0\n",
    "    for i in range(L):\n",
    "        val+=gene[i]*factor[i]\n",
    "    val/=float(2**L-1)\n",
    "    return val"
   ]
  },
  {
   "cell_type": "code",
   "execution_count": 207,
   "metadata": {},
   "outputs": [],
   "source": [
    "def fitness():\n",
    "def mutate(population):\n",
    "    if r.rand(0,1)>p_mutate:\n",
    "        return\n",
    "    i=r.randint(0,L)\n",
    "    population[0][i]=(population[0][i]+1)%2\n",
    "\n",
    "def crossover(population):\n",
    "    if r.rand(0,1)>p_cross:\n",
    "        return\n"
   ]
  },
  {
   "cell_type": "code",
   "execution_count": 150,
   "metadata": {},
   "outputs": [],
   "source": [
    "population = [[r.randint(0, 1) for _ in range(L)] for _ in range(N)]\n",
    "pop=[0,1,0,0,0,1,0,0,1,1]"
   ]
  }
 ],
 "metadata": {
  "interpreter": {
   "hash": "8343e1279b8e1549563b406b02efaa63e68e704dfedc67139835435c2e0dd82f"
  },
  "kernelspec": {
   "display_name": "Python 3 (ipykernel)",
   "language": "python",
   "name": "python3"
  },
  "language_info": {
   "codemirror_mode": {
    "name": "ipython",
    "version": 3
   },
   "file_extension": ".py",
   "mimetype": "text/x-python",
   "name": "python",
   "nbconvert_exporter": "python",
   "pygments_lexer": "ipython3",
   "version": "3.9.5"
  }
 },
 "nbformat": 4,
 "nbformat_minor": 4
}
